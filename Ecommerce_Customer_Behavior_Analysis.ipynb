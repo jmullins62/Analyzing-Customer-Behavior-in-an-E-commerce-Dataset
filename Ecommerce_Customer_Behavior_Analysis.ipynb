{
  "nbformat": 4,
  "nbformat_minor": 5,
  "metadata": {
    "noteable-chatgpt": {
      "create_notebook": {
        "openai_conversation_id": "202c2c19-0850-5d96-b375-86c57c2021f8",
        "openai_ephemeral_user_id": "649cf6fa-9218-58e9-8574-59c196ec10dd",
        "openai_subdivision1_iso_code": "US-TX"
      }
    },
    "kernel_info": {
      "name": "python3"
    },
    "noteable": {
      "last_transaction_id": "c5bc86fd-8e27-44cb-8239-9a829f6b6f09"
    },
    "kernelspec": {
      "display_name": "Python 3.9",
      "language": "python",
      "name": "python3"
    },
    "selected_hardware_size": "small"
  },
  "cells": [
    {
      "id": "9f526e81-9b64-4c56-a6ae-06e4120dc493",
      "cell_type": "code",
      "metadata": {
        "noteable": {
          "cell_type": "code",
          "output_collection_id": "7639bcd3-a8ba-4f66-86ed-7e12afc8c5ce"
        },
        "ExecuteTime": {
          "end_time": "2023-07-26T16:17:05.955622+00:00",
          "start_time": "2023-07-26T16:17:03.987701+00:00"
        },
        "datalink": {
          "a594b10c-6689-4547-8e00-0b5a69c05aa7": {
            "applied_filters": [],
            "dataframe_info": {
              "default_index_used": true,
              "orig_num_cols": 8,
              "orig_num_rows": 5,
              "orig_size_bytes": 360,
              "truncated_num_cols": 8,
              "truncated_num_rows": 5,
              "truncated_size_bytes": 360,
              "truncated_string_columns": []
            },
            "display_id": "a594b10c-6689-4547-8e00-0b5a69c05aa7",
            "dx_settings": {
              "ALLOW_NOTEABLE_ATTRS": true,
              "COLUMN_SAMPLING_METHOD": "outer",
              "DB_LOCATION": ":memory:",
              "DEV_MODE": false,
              "DISPLAY_MAX_COLUMNS": 100,
              "DISPLAY_MAX_ROWS": 50000,
              "DISPLAY_MODE": "simple",
              "ENABLE_ASSIGNMENT": true,
              "ENABLE_DATALINK": true,
              "FLATTEN_COLUMN_VALUES": true,
              "FLATTEN_INDEX_VALUES": false,
              "GENERATE_DEX_METADATA": false,
              "HTML_TABLE_SCHEMA": false,
              "LOG_LEVEL": 30,
              "MAX_RENDER_SIZE_BYTES": 104857600,
              "MAX_STRING_LENGTH": 250,
              "NUM_PAST_SAMPLES_TRACKED": 3,
              "RANDOM_STATE": 12648430,
              "RESET_INDEX_VALUES": false,
              "ROW_SAMPLING_METHOD": "random",
              "SAMPLING_FACTOR": 0.1,
              "SAMPLING_METHOD": "random",
              "STRINGIFY_COLUMN_VALUES": true,
              "STRINGIFY_INDEX_VALUES": false
            },
            "sample_history": [],
            "sampling_time": "2023-07-26T15:24:12.295617",
            "user_variable_name": null,
            "variable_name": "unk_dataframe_b51a70db57654585bc9152a795646bb6"
          },
          "fe72b5c3-d083-4eae-a720-bcf42a6d7355": {
            "applied_filters": [],
            "dataframe_info": {
              "default_index_used": true,
              "orig_num_cols": 8,
              "orig_num_rows": 5,
              "orig_size_bytes": 360,
              "truncated_num_cols": 8,
              "truncated_num_rows": 5,
              "truncated_size_bytes": 360,
              "truncated_string_columns": []
            },
            "display_id": "fe72b5c3-d083-4eae-a720-bcf42a6d7355",
            "dx_settings": {
              "ALLOW_NOTEABLE_ATTRS": true,
              "COLUMN_SAMPLING_METHOD": "outer",
              "DB_LOCATION": ":memory:",
              "DEV_MODE": false,
              "DISPLAY_MAX_COLUMNS": 100,
              "DISPLAY_MAX_ROWS": 50000,
              "DISPLAY_MODE": "simple",
              "ENABLE_ASSIGNMENT": true,
              "ENABLE_DATALINK": true,
              "FLATTEN_COLUMN_VALUES": true,
              "FLATTEN_INDEX_VALUES": false,
              "GENERATE_DEX_METADATA": false,
              "HTML_TABLE_SCHEMA": false,
              "LOG_LEVEL": 30,
              "MAX_RENDER_SIZE_BYTES": 104857600,
              "MAX_STRING_LENGTH": 250,
              "NUM_PAST_SAMPLES_TRACKED": 3,
              "RANDOM_STATE": 12648430,
              "RESET_INDEX_VALUES": false,
              "ROW_SAMPLING_METHOD": "random",
              "SAMPLING_FACTOR": 0.1,
              "SAMPLING_METHOD": "random",
              "STRINGIFY_COLUMN_VALUES": true,
              "STRINGIFY_INDEX_VALUES": false
            },
            "sample_history": [],
            "sampling_time": "2023-07-26T16:15:43.715064",
            "user_variable_name": null,
            "variable_name": "unk_dataframe_b0e706e353664b47b549c638373cfa48"
          },
          "7e8a68b1-0530-47a5-b7bf-6119fa0216a2": {
            "applied_filters": [],
            "dataframe_info": {
              "default_index_used": true,
              "orig_num_cols": 8,
              "orig_num_rows": 5,
              "orig_size_bytes": 360,
              "truncated_num_cols": 8,
              "truncated_num_rows": 5,
              "truncated_size_bytes": 360,
              "truncated_string_columns": []
            },
            "display_id": "7e8a68b1-0530-47a5-b7bf-6119fa0216a2",
            "dx_settings": {
              "ALLOW_NOTEABLE_ATTRS": true,
              "COLUMN_SAMPLING_METHOD": "outer",
              "DB_LOCATION": ":memory:",
              "DEV_MODE": false,
              "DISPLAY_MAX_COLUMNS": 100,
              "DISPLAY_MAX_ROWS": 50000,
              "DISPLAY_MODE": "simple",
              "ENABLE_ASSIGNMENT": true,
              "ENABLE_DATALINK": true,
              "FLATTEN_COLUMN_VALUES": true,
              "FLATTEN_INDEX_VALUES": false,
              "GENERATE_DEX_METADATA": false,
              "HTML_TABLE_SCHEMA": false,
              "LOG_LEVEL": 30,
              "MAX_RENDER_SIZE_BYTES": 104857600,
              "MAX_STRING_LENGTH": 250,
              "NUM_PAST_SAMPLES_TRACKED": 3,
              "RANDOM_STATE": 12648430,
              "RESET_INDEX_VALUES": false,
              "ROW_SAMPLING_METHOD": "random",
              "SAMPLING_FACTOR": 0.1,
              "SAMPLING_METHOD": "random",
              "STRINGIFY_COLUMN_VALUES": true,
              "STRINGIFY_INDEX_VALUES": false
            },
            "sample_history": [],
            "sampling_time": "2023-07-26T16:17:05.796539",
            "user_variable_name": null,
            "variable_name": "unk_dataframe_5e6c504851294be8a412e912112ef537"
          }
        }
      },
      "execution_count": null,
      "source": "import pandas as pd\nimport numpy as np\nimport matplotlib.pyplot as plt\nimport seaborn as sns\n\n# Load the datasets\ndf1 = pd.read_csv('online_retail_09_10.csv')\ndf2 = pd.read_csv('online_retail_10_11.csv')\n\n# Combine the datasets\ndf = pd.concat([df1, df2])\n\n# Display the first few rows of the dataframe\ndf.head()",
      "outputs": []
    },
    {
      "id": "459d1867-bb72-4e14-8691-c10ea160365e",
      "cell_type": "code",
      "metadata": {
        "noteable": {
          "cell_type": "code",
          "output_collection_id": "1b221874-ea29-4df8-a9a1-77ae59cf6a46"
        },
        "ExecuteTime": {
          "end_time": "2023-07-26T16:17:07.064819+00:00",
          "start_time": "2023-07-26T16:17:05.965812+00:00"
        },
        "datalink": {
          "27f30404-29ba-4c7e-b117-abf73dee19b1": {
            "applied_filters": [],
            "dataframe_info": {
              "default_index_used": false,
              "orig_num_cols": 1,
              "orig_num_rows": 8,
              "orig_size_bytes": 128,
              "truncated_num_cols": 1,
              "truncated_num_rows": 8,
              "truncated_size_bytes": 128,
              "truncated_string_columns": []
            },
            "display_id": "27f30404-29ba-4c7e-b117-abf73dee19b1",
            "dx_settings": {
              "ALLOW_NOTEABLE_ATTRS": true,
              "COLUMN_SAMPLING_METHOD": "outer",
              "DB_LOCATION": ":memory:",
              "DEV_MODE": false,
              "DISPLAY_MAX_COLUMNS": 100,
              "DISPLAY_MAX_ROWS": 50000,
              "DISPLAY_MODE": "simple",
              "ENABLE_ASSIGNMENT": true,
              "ENABLE_DATALINK": true,
              "FLATTEN_COLUMN_VALUES": true,
              "FLATTEN_INDEX_VALUES": false,
              "GENERATE_DEX_METADATA": false,
              "HTML_TABLE_SCHEMA": false,
              "LOG_LEVEL": 30,
              "MAX_RENDER_SIZE_BYTES": 104857600,
              "MAX_STRING_LENGTH": 250,
              "NUM_PAST_SAMPLES_TRACKED": 3,
              "RANDOM_STATE": 12648430,
              "RESET_INDEX_VALUES": false,
              "ROW_SAMPLING_METHOD": "random",
              "SAMPLING_FACTOR": 0.1,
              "SAMPLING_METHOD": "random",
              "STRINGIFY_COLUMN_VALUES": true,
              "STRINGIFY_INDEX_VALUES": false
            },
            "sample_history": [],
            "sampling_time": "2023-07-26T15:24:58.831038",
            "user_variable_name": null,
            "variable_name": "unk_dataframe_12d6d4c5cb064951b67a1fc20268d77a"
          },
          "05426820-e25b-44b4-bc83-1c9d6a1661bb": {
            "applied_filters": [],
            "dataframe_info": {
              "default_index_used": false,
              "orig_num_cols": 1,
              "orig_num_rows": 8,
              "orig_size_bytes": 128,
              "truncated_num_cols": 1,
              "truncated_num_rows": 8,
              "truncated_size_bytes": 128,
              "truncated_string_columns": []
            },
            "display_id": "05426820-e25b-44b4-bc83-1c9d6a1661bb",
            "dx_settings": {
              "ALLOW_NOTEABLE_ATTRS": true,
              "COLUMN_SAMPLING_METHOD": "outer",
              "DB_LOCATION": ":memory:",
              "DEV_MODE": false,
              "DISPLAY_MAX_COLUMNS": 100,
              "DISPLAY_MAX_ROWS": 50000,
              "DISPLAY_MODE": "simple",
              "ENABLE_ASSIGNMENT": true,
              "ENABLE_DATALINK": true,
              "FLATTEN_COLUMN_VALUES": true,
              "FLATTEN_INDEX_VALUES": false,
              "GENERATE_DEX_METADATA": false,
              "HTML_TABLE_SCHEMA": false,
              "LOG_LEVEL": 30,
              "MAX_RENDER_SIZE_BYTES": 104857600,
              "MAX_STRING_LENGTH": 250,
              "NUM_PAST_SAMPLES_TRACKED": 3,
              "RANDOM_STATE": 12648430,
              "RESET_INDEX_VALUES": false,
              "ROW_SAMPLING_METHOD": "random",
              "SAMPLING_FACTOR": 0.1,
              "SAMPLING_METHOD": "random",
              "STRINGIFY_COLUMN_VALUES": true,
              "STRINGIFY_INDEX_VALUES": false
            },
            "sample_history": [],
            "sampling_time": "2023-07-26T16:17:06.908372",
            "user_variable_name": null,
            "variable_name": "unk_dataframe_ae7bd47eacba4e7b8f6ceb8952773f45"
          }
        }
      },
      "execution_count": null,
      "source": "# Check for missing data\ndf.isnull().sum()",
      "outputs": []
    },
    {
      "id": "35933b38-b6b8-4e26-b47a-5116e32ff96a",
      "cell_type": "code",
      "metadata": {
        "noteable": {
          "cell_type": "code",
          "output_collection_id": "66d56a61-3d46-48f1-9702-48bd28704567"
        },
        "ExecuteTime": {
          "end_time": "2023-07-26T16:17:08.273726+00:00",
          "start_time": "2023-07-26T16:17:07.073901+00:00"
        },
        "datalink": {
          "6ef01afb-bfca-45f2-85b4-4d7642063925": {
            "applied_filters": [],
            "dataframe_info": {
              "default_index_used": false,
              "orig_num_cols": 1,
              "orig_num_rows": 8,
              "orig_size_bytes": 128,
              "truncated_num_cols": 1,
              "truncated_num_rows": 8,
              "truncated_size_bytes": 128,
              "truncated_string_columns": []
            },
            "display_id": "6ef01afb-bfca-45f2-85b4-4d7642063925",
            "dx_settings": {
              "ALLOW_NOTEABLE_ATTRS": true,
              "COLUMN_SAMPLING_METHOD": "outer",
              "DB_LOCATION": ":memory:",
              "DEV_MODE": false,
              "DISPLAY_MAX_COLUMNS": 100,
              "DISPLAY_MAX_ROWS": 50000,
              "DISPLAY_MODE": "simple",
              "ENABLE_ASSIGNMENT": true,
              "ENABLE_DATALINK": true,
              "FLATTEN_COLUMN_VALUES": true,
              "FLATTEN_INDEX_VALUES": false,
              "GENERATE_DEX_METADATA": false,
              "HTML_TABLE_SCHEMA": false,
              "LOG_LEVEL": 30,
              "MAX_RENDER_SIZE_BYTES": 104857600,
              "MAX_STRING_LENGTH": 250,
              "NUM_PAST_SAMPLES_TRACKED": 3,
              "RANDOM_STATE": 12648430,
              "RESET_INDEX_VALUES": false,
              "ROW_SAMPLING_METHOD": "random",
              "SAMPLING_FACTOR": 0.1,
              "SAMPLING_METHOD": "random",
              "STRINGIFY_COLUMN_VALUES": true,
              "STRINGIFY_INDEX_VALUES": false
            },
            "sample_history": [],
            "sampling_time": "2023-07-26T15:25:28.318993",
            "user_variable_name": null,
            "variable_name": "unk_dataframe_8da6baf486dc440ca7dbac4e30184ca3"
          },
          "b147241a-433d-468d-a5e2-2ced12a04fca": {
            "applied_filters": [],
            "dataframe_info": {
              "default_index_used": false,
              "orig_num_cols": 1,
              "orig_num_rows": 8,
              "orig_size_bytes": 128,
              "truncated_num_cols": 1,
              "truncated_num_rows": 8,
              "truncated_size_bytes": 128,
              "truncated_string_columns": []
            },
            "display_id": "b147241a-433d-468d-a5e2-2ced12a04fca",
            "dx_settings": {
              "ALLOW_NOTEABLE_ATTRS": true,
              "COLUMN_SAMPLING_METHOD": "outer",
              "DB_LOCATION": ":memory:",
              "DEV_MODE": false,
              "DISPLAY_MAX_COLUMNS": 100,
              "DISPLAY_MAX_ROWS": 50000,
              "DISPLAY_MODE": "simple",
              "ENABLE_ASSIGNMENT": true,
              "ENABLE_DATALINK": true,
              "FLATTEN_COLUMN_VALUES": true,
              "FLATTEN_INDEX_VALUES": false,
              "GENERATE_DEX_METADATA": false,
              "HTML_TABLE_SCHEMA": false,
              "LOG_LEVEL": 30,
              "MAX_RENDER_SIZE_BYTES": 104857600,
              "MAX_STRING_LENGTH": 250,
              "NUM_PAST_SAMPLES_TRACKED": 3,
              "RANDOM_STATE": 12648430,
              "RESET_INDEX_VALUES": false,
              "ROW_SAMPLING_METHOD": "random",
              "SAMPLING_FACTOR": 0.1,
              "SAMPLING_METHOD": "random",
              "STRINGIFY_COLUMN_VALUES": true,
              "STRINGIFY_INDEX_VALUES": false
            },
            "sample_history": [],
            "sampling_time": "2023-07-26T16:17:08.117077",
            "user_variable_name": null,
            "variable_name": "unk_dataframe_406c7f9a4f024eb1bd6aca71660168df"
          }
        }
      },
      "execution_count": null,
      "source": "# Fill missing 'Description' values with 'Unknown'\ndf['Description'].fillna('Unknown', inplace=True)\n\n# Check the number of missing values again\ndf.isnull().sum()",
      "outputs": []
    },
    {
      "id": "9c57cbb6-8bb7-4132-aed8-911aaf50ca3f",
      "cell_type": "code",
      "metadata": {
        "noteable": {
          "cell_type": "code",
          "output_collection_id": "9bbcf7d7-328e-40b4-a685-0f51da05842b"
        },
        "ExecuteTime": {
          "end_time": "2023-07-26T16:17:08.675782+00:00",
          "start_time": "2023-07-26T16:17:08.281277+00:00"
        }
      },
      "execution_count": null,
      "source": "# Check the unique values and their counts for 'Description', 'UnitPrice', and 'Quantity'\nprint('Description:\\n', df['Description'].value_counts())\nprint('\\nUnitPrice:\\n', df['UnitPrice'].describe())\nprint('\\nQuantity:\\n', df['Quantity'].describe())",
      "outputs": []
    },
    {
      "id": "03ff7fd6-595b-4aae-9b9c-660afff69033",
      "cell_type": "code",
      "metadata": {
        "noteable": {
          "cell_type": "code",
          "output_collection_id": "366dabf3-d187-4ccb-8a22-63325759a9ca"
        },
        "ExecuteTime": {
          "end_time": "2023-07-26T16:17:15.022413+00:00",
          "start_time": "2023-07-26T16:17:09.017910+00:00"
        },
        "datalink": {
          "848d009a-9495-40bb-8b30-1c72ae0dcb89": {
            "applied_filters": [],
            "dataframe_info": {
              "default_index_used": true,
              "orig_num_cols": 10,
              "orig_num_rows": 5,
              "orig_size_bytes": 440,
              "truncated_num_cols": 10,
              "truncated_num_rows": 5,
              "truncated_size_bytes": 440,
              "truncated_string_columns": []
            },
            "display_id": "848d009a-9495-40bb-8b30-1c72ae0dcb89",
            "dx_settings": {
              "ALLOW_NOTEABLE_ATTRS": true,
              "COLUMN_SAMPLING_METHOD": "outer",
              "DB_LOCATION": ":memory:",
              "DEV_MODE": false,
              "DISPLAY_MAX_COLUMNS": 100,
              "DISPLAY_MAX_ROWS": 50000,
              "DISPLAY_MODE": "simple",
              "ENABLE_ASSIGNMENT": true,
              "ENABLE_DATALINK": true,
              "FLATTEN_COLUMN_VALUES": true,
              "FLATTEN_INDEX_VALUES": false,
              "GENERATE_DEX_METADATA": false,
              "HTML_TABLE_SCHEMA": false,
              "LOG_LEVEL": 30,
              "MAX_RENDER_SIZE_BYTES": 104857600,
              "MAX_STRING_LENGTH": 250,
              "NUM_PAST_SAMPLES_TRACKED": 3,
              "RANDOM_STATE": 12648430,
              "RESET_INDEX_VALUES": false,
              "ROW_SAMPLING_METHOD": "random",
              "SAMPLING_FACTOR": 0.1,
              "SAMPLING_METHOD": "random",
              "STRINGIFY_COLUMN_VALUES": true,
              "STRINGIFY_INDEX_VALUES": false
            },
            "sample_history": [],
            "sampling_time": "2023-07-26T15:26:53.724726",
            "user_variable_name": null,
            "variable_name": "unk_dataframe_ca31c2ae26c44dfebdd39a23c5bc228c"
          },
          "7b6f6537-8368-48c6-afb7-8d5c5dc54851": {
            "applied_filters": [],
            "dataframe_info": {
              "default_index_used": true,
              "orig_num_cols": 10,
              "orig_num_rows": 5,
              "orig_size_bytes": 440,
              "truncated_num_cols": 10,
              "truncated_num_rows": 5,
              "truncated_size_bytes": 440,
              "truncated_string_columns": []
            },
            "display_id": "7b6f6537-8368-48c6-afb7-8d5c5dc54851",
            "dx_settings": {
              "ALLOW_NOTEABLE_ATTRS": true,
              "COLUMN_SAMPLING_METHOD": "outer",
              "DB_LOCATION": ":memory:",
              "DEV_MODE": false,
              "DISPLAY_MAX_COLUMNS": 100,
              "DISPLAY_MAX_ROWS": 50000,
              "DISPLAY_MODE": "simple",
              "ENABLE_ASSIGNMENT": true,
              "ENABLE_DATALINK": true,
              "FLATTEN_COLUMN_VALUES": true,
              "FLATTEN_INDEX_VALUES": false,
              "GENERATE_DEX_METADATA": false,
              "HTML_TABLE_SCHEMA": false,
              "LOG_LEVEL": 30,
              "MAX_RENDER_SIZE_BYTES": 104857600,
              "MAX_STRING_LENGTH": 250,
              "NUM_PAST_SAMPLES_TRACKED": 3,
              "RANDOM_STATE": 12648430,
              "RESET_INDEX_VALUES": false,
              "ROW_SAMPLING_METHOD": "random",
              "SAMPLING_FACTOR": 0.1,
              "SAMPLING_METHOD": "random",
              "STRINGIFY_COLUMN_VALUES": true,
              "STRINGIFY_INDEX_VALUES": false
            },
            "sample_history": [],
            "sampling_time": "2023-07-26T16:17:14.861513",
            "user_variable_name": null,
            "variable_name": "unk_dataframe_5a402302251e40f49515ca7de335bd55"
          }
        }
      },
      "execution_count": null,
      "source": "# Convert 'InvoiceDate' to datetime format\ndf['InvoiceDate'] = pd.to_datetime(df['InvoiceDate'])\n\n# Extract hour and day of week from 'InvoiceDate'\ndf['Hour'] = df['InvoiceDate'].dt.hour\ndf['DayOfWeek'] = df['InvoiceDate'].dt.dayofweek\n\n# Check the first few rows of the dataframe\ndf.head()",
      "outputs": []
    },
    {
      "id": "321ba0b1-ecae-4c2a-8521-6d4baecf0968",
      "cell_type": "code",
      "metadata": {
        "noteable": {
          "cell_type": "code",
          "output_collection_id": "5f44b8ac-2906-4599-b2b5-57d8dfc81070"
        },
        "ExecuteTime": {
          "end_time": "2023-07-26T16:17:15.832107+00:00",
          "start_time": "2023-07-26T16:17:15.033347+00:00"
        }
      },
      "execution_count": null,
      "source": "# Plot the distribution of purchases across different hours of the day\nplt.figure(figsize=(10, 6))\nsns.countplot(x='Hour', data=df)\nplt.title('Distribution of Purchases Across Different Hours of the Day')\nplt.xlabel('Hour of the Day')\nplt.ylabel('Number of Purchases')\nplt.show()",
      "outputs": []
    },
    {
      "id": "ff6bbcc5-2e34-4cb8-a6a5-c78ed6b5852c",
      "cell_type": "code",
      "metadata": {
        "noteable": {
          "cell_type": "code",
          "output_collection_id": "71185bc0-94a0-44c7-9753-af537d796518"
        },
        "ExecuteTime": {
          "end_time": "2023-07-26T16:17:16.766989+00:00",
          "start_time": "2023-07-26T16:17:16.162473+00:00"
        }
      },
      "execution_count": null,
      "source": "# Plot the distribution of purchases across different days of the week\nplt.figure(figsize=(10, 6))\nsns.countplot(x='DayOfWeek', data=df)\nplt.title('Distribution of Purchases Across Different Days of the Week')\nplt.xlabel('Day of the Week (0: Monday, 6: Sunday)')\nplt.ylabel('Number of Purchases')\nplt.show()",
      "outputs": []
    },
    {
      "id": "28c4b56e-0251-4925-a8bc-4329927afc92",
      "cell_type": "code",
      "metadata": {
        "noteable": {
          "cell_type": "code",
          "output_collection_id": "92c9400a-994f-46c1-ac72-ac97e607e2a4"
        },
        "ExecuteTime": {
          "end_time": "2023-07-26T16:17:18.418093+00:00",
          "start_time": "2023-07-26T16:17:17.336897+00:00"
        }
      },
      "execution_count": null,
      "source": "# Analyze the time-based patterns\n\n# Peak purchasing hours\nplt.figure(figsize=(10, 6))\nsns.countplot(x='Hour', data=df)\nplt.title('Purchases by Hour')\nplt.show()\n\n# Days with high sales (0=Monday, 6=Sunday)\nplt.figure(figsize=(10, 6))\nsns.countplot(x='DayOfWeek', data=df)\nplt.title('Purchases by Day of Week')\nplt.show()",
      "outputs": []
    },
    {
      "id": "869957dc-2467-4bae-9fd0-9561f4e4f574",
      "cell_type": "code",
      "metadata": {
        "noteable": {
          "cell_type": "code",
          "output_collection_id": "4476a100-e486-434c-ad06-2582df03f429"
        },
        "ExecuteTime": {
          "end_time": "2023-07-26T16:17:21.972194+00:00",
          "start_time": "2023-07-26T16:17:18.797021+00:00"
        },
        "datalink": {
          "88ad4c97-6d97-4206-bc6e-32ca2762430e": {
            "applied_filters": [],
            "dataframe_info": {
              "default_index_used": false,
              "orig_num_cols": 3,
              "orig_num_rows": 5,
              "orig_size_bytes": 160,
              "truncated_num_cols": 3,
              "truncated_num_rows": 5,
              "truncated_size_bytes": 160,
              "truncated_string_columns": []
            },
            "display_id": "88ad4c97-6d97-4206-bc6e-32ca2762430e",
            "dx_settings": {
              "ALLOW_NOTEABLE_ATTRS": true,
              "COLUMN_SAMPLING_METHOD": "outer",
              "DB_LOCATION": ":memory:",
              "DEV_MODE": false,
              "DISPLAY_MAX_COLUMNS": 100,
              "DISPLAY_MAX_ROWS": 50000,
              "DISPLAY_MODE": "simple",
              "ENABLE_ASSIGNMENT": true,
              "ENABLE_DATALINK": true,
              "FLATTEN_COLUMN_VALUES": true,
              "FLATTEN_INDEX_VALUES": false,
              "GENERATE_DEX_METADATA": false,
              "HTML_TABLE_SCHEMA": false,
              "LOG_LEVEL": 30,
              "MAX_RENDER_SIZE_BYTES": 104857600,
              "MAX_STRING_LENGTH": 250,
              "NUM_PAST_SAMPLES_TRACKED": 3,
              "RANDOM_STATE": 12648430,
              "RESET_INDEX_VALUES": false,
              "ROW_SAMPLING_METHOD": "random",
              "SAMPLING_FACTOR": 0.1,
              "SAMPLING_METHOD": "random",
              "STRINGIFY_COLUMN_VALUES": true,
              "STRINGIFY_INDEX_VALUES": false
            },
            "sample_history": [],
            "sampling_time": "2023-07-26T15:30:07.012581",
            "user_variable_name": null,
            "variable_name": "unk_dataframe_e8b3d22d9ac14bec93715084c59b812b"
          },
          "67aababa-d881-43dd-ad02-86a7e2657f22": {
            "applied_filters": [],
            "dataframe_info": {
              "default_index_used": false,
              "orig_num_cols": 3,
              "orig_num_rows": 5,
              "orig_size_bytes": 160,
              "truncated_num_cols": 3,
              "truncated_num_rows": 5,
              "truncated_size_bytes": 160,
              "truncated_string_columns": []
            },
            "display_id": "67aababa-d881-43dd-ad02-86a7e2657f22",
            "dx_settings": {
              "ALLOW_NOTEABLE_ATTRS": true,
              "COLUMN_SAMPLING_METHOD": "outer",
              "DB_LOCATION": ":memory:",
              "DEV_MODE": false,
              "DISPLAY_MAX_COLUMNS": 100,
              "DISPLAY_MAX_ROWS": 50000,
              "DISPLAY_MODE": "simple",
              "ENABLE_ASSIGNMENT": true,
              "ENABLE_DATALINK": true,
              "FLATTEN_COLUMN_VALUES": true,
              "FLATTEN_INDEX_VALUES": false,
              "GENERATE_DEX_METADATA": false,
              "HTML_TABLE_SCHEMA": false,
              "LOG_LEVEL": 30,
              "MAX_RENDER_SIZE_BYTES": 104857600,
              "MAX_STRING_LENGTH": 250,
              "NUM_PAST_SAMPLES_TRACKED": 3,
              "RANDOM_STATE": 12648430,
              "RESET_INDEX_VALUES": false,
              "ROW_SAMPLING_METHOD": "random",
              "SAMPLING_FACTOR": 0.1,
              "SAMPLING_METHOD": "random",
              "STRINGIFY_COLUMN_VALUES": true,
              "STRINGIFY_INDEX_VALUES": false
            },
            "sample_history": [],
            "sampling_time": "2023-07-26T16:17:21.813461",
            "user_variable_name": null,
            "variable_name": "unk_dataframe_041556bc5d764626a252eacf9f0c4051"
          }
        }
      },
      "execution_count": null,
      "source": "# Calculate total quantity purchased, total amount spent, and number of unique products purchased for each customer\ncustomer_data = df.groupby('CustomerID').agg({'Quantity': 'sum', 'Description': 'nunique'})\ncustomer_data['TotalSpent'] = df.groupby('CustomerID').apply(lambda x: (x['Quantity'] * x['UnitPrice']).sum())\ncustomer_data.rename(columns={'Quantity': 'TotalQuantity', 'Description': 'NumUniqueProducts'}, inplace=True)\n\n# Display the first few rows of the customer data\ncustomer_data.head()",
      "outputs": []
    },
    {
      "id": "6e03d557-d706-4b75-a680-7be320f8366f",
      "cell_type": "code",
      "metadata": {
        "noteable": {
          "cell_type": "code",
          "output_collection_id": "41d0dce6-5361-4cd1-9f4e-ec73863db0c2"
        },
        "ExecuteTime": {
          "end_time": "2023-07-26T16:17:23.427263+00:00",
          "start_time": "2023-07-26T16:17:21.981180+00:00"
        }
      },
      "execution_count": null,
      "source": "# Visualize the distributions of 'TotalQuantity', 'NumUniqueProducts', and 'TotalSpent'\n\nfig, ax = plt.subplots(3, 1, figsize=(10, 18))\n\nsns.histplot(customer_data['TotalQuantity'], bins=50, ax=ax[0])\nax[0].set_title('Distribution of Total Quantity Purchased')\n\nsns.histplot(customer_data['NumUniqueProducts'], bins=50, ax=ax[1])\nax[1].set_title('Distribution of Number of Unique Products Purchased')\n\nsns.histplot(customer_data['TotalSpent'], bins=50, ax=ax[2])\nax[2].set_title('Distribution of Total Amount Spent')\n\nplt.tight_layout()\nplt.show()",
      "outputs": []
    },
    {
      "id": "cd112ccf-d7c9-472a-be5b-13c686f1a492",
      "cell_type": "code",
      "metadata": {
        "noteable": {
          "cell_type": "code",
          "output_collection_id": "f1d49e2e-0d79-436f-a3b0-9ef402dcdc1f"
        },
        "ExecuteTime": {
          "end_time": "2023-07-26T16:17:24.732715+00:00",
          "start_time": "2023-07-26T16:17:23.788657+00:00"
        }
      },
      "execution_count": null,
      "source": "# Create scatter plots of 'TotalQuantity' vs 'TotalSpent' and 'NumUniqueProducts' vs 'TotalSpent'\n\nfig, ax = plt.subplots(2, 1, figsize=(10, 12))\n\nax[0].scatter(customer_data['TotalQuantity'], customer_data['TotalSpent'], alpha=0.5)\nax[0].set_xlabel('Total Quantity Purchased')\nax[0].set_ylabel('Total Amount Spent')\nax[0].set_title('Total Quantity Purchased vs Total Amount Spent')\n\nax[1].scatter(customer_data['NumUniqueProducts'], customer_data['TotalSpent'], alpha=0.5)\nax[1].set_xlabel('Number of Unique Products Purchased')\nax[1].set_ylabel('Total Amount Spent')\nax[1].set_title('Number of Unique Products Purchased vs Total Amount Spent')\n\nplt.tight_layout()\nplt.show()",
      "outputs": []
    },
    {
      "id": "1e47abcd-0e81-40a0-97ce-d6fc3068be59",
      "cell_type": "code",
      "metadata": {
        "noteable": {
          "cell_type": "code",
          "output_collection_id": "2192b84f-89f1-42b8-b0bc-acd818505851"
        },
        "ExecuteTime": {
          "end_time": "2023-07-26T16:17:25.552107+00:00",
          "start_time": "2023-07-26T16:17:25.150958+00:00"
        },
        "datalink": {
          "ac39a4dd-f9c7-401e-aaec-d32ac24ea041": {
            "applied_filters": [],
            "dataframe_info": {
              "default_index_used": false,
              "orig_num_cols": 1,
              "orig_num_rows": 10,
              "orig_size_bytes": 160,
              "truncated_num_cols": 1,
              "truncated_num_rows": 10,
              "truncated_size_bytes": 160,
              "truncated_string_columns": []
            },
            "display_id": "ac39a4dd-f9c7-401e-aaec-d32ac24ea041",
            "dx_settings": {
              "ALLOW_NOTEABLE_ATTRS": true,
              "COLUMN_SAMPLING_METHOD": "outer",
              "DB_LOCATION": ":memory:",
              "DEV_MODE": false,
              "DISPLAY_MAX_COLUMNS": 100,
              "DISPLAY_MAX_ROWS": 50000,
              "DISPLAY_MODE": "simple",
              "ENABLE_ASSIGNMENT": true,
              "ENABLE_DATALINK": true,
              "FLATTEN_COLUMN_VALUES": true,
              "FLATTEN_INDEX_VALUES": false,
              "GENERATE_DEX_METADATA": false,
              "HTML_TABLE_SCHEMA": false,
              "LOG_LEVEL": 30,
              "MAX_RENDER_SIZE_BYTES": 104857600,
              "MAX_STRING_LENGTH": 250,
              "NUM_PAST_SAMPLES_TRACKED": 3,
              "RANDOM_STATE": 12648430,
              "RESET_INDEX_VALUES": false,
              "ROW_SAMPLING_METHOD": "random",
              "SAMPLING_FACTOR": 0.1,
              "SAMPLING_METHOD": "random",
              "STRINGIFY_COLUMN_VALUES": true,
              "STRINGIFY_INDEX_VALUES": false
            },
            "sample_history": [],
            "sampling_time": "2023-07-26T15:32:15.079530",
            "user_variable_name": "top_products",
            "variable_name": "top_products"
          },
          "ad1cf535-f0f0-488e-aa09-79a186862ba0": {
            "applied_filters": [],
            "dataframe_info": {
              "default_index_used": false,
              "orig_num_cols": 1,
              "orig_num_rows": 10,
              "orig_size_bytes": 160,
              "truncated_num_cols": 1,
              "truncated_num_rows": 10,
              "truncated_size_bytes": 160,
              "truncated_string_columns": []
            },
            "display_id": "ad1cf535-f0f0-488e-aa09-79a186862ba0",
            "dx_settings": {
              "ALLOW_NOTEABLE_ATTRS": true,
              "COLUMN_SAMPLING_METHOD": "outer",
              "DB_LOCATION": ":memory:",
              "DEV_MODE": false,
              "DISPLAY_MAX_COLUMNS": 100,
              "DISPLAY_MAX_ROWS": 50000,
              "DISPLAY_MODE": "simple",
              "ENABLE_ASSIGNMENT": true,
              "ENABLE_DATALINK": true,
              "FLATTEN_COLUMN_VALUES": true,
              "FLATTEN_INDEX_VALUES": false,
              "GENERATE_DEX_METADATA": false,
              "HTML_TABLE_SCHEMA": false,
              "LOG_LEVEL": 30,
              "MAX_RENDER_SIZE_BYTES": 104857600,
              "MAX_STRING_LENGTH": 250,
              "NUM_PAST_SAMPLES_TRACKED": 3,
              "RANDOM_STATE": 12648430,
              "RESET_INDEX_VALUES": false,
              "ROW_SAMPLING_METHOD": "random",
              "SAMPLING_FACTOR": 0.1,
              "SAMPLING_METHOD": "random",
              "STRINGIFY_COLUMN_VALUES": true,
              "STRINGIFY_INDEX_VALUES": false
            },
            "sample_history": [],
            "sampling_time": "2023-07-26T16:17:25.394540",
            "user_variable_name": "top_products",
            "variable_name": "top_products"
          }
        }
      },
      "execution_count": null,
      "source": "# Calculate total quantity sold for each product\nproduct_sales = df.groupby('Description').agg({'Quantity': 'sum'})\n\n# List the top 10 products\ntop_products = product_sales.sort_values('Quantity', ascending=False).head(10)\ntop_products",
      "outputs": []
    },
    {
      "id": "29f7be2d-44e4-4401-9a16-5c046ad23487",
      "cell_type": "code",
      "metadata": {
        "noteable": {
          "cell_type": "code",
          "output_collection_id": "43c43c34-a531-4bd4-a3c5-e1f1fb3f71fc"
        },
        "ExecuteTime": {
          "end_time": "2023-07-26T16:17:28.206074+00:00",
          "start_time": "2023-07-26T16:17:25.560649+00:00"
        }
      },
      "execution_count": null,
      "source": "# Calculate total quantity purchased and total amount spent for each customer\ncustomer_purchases = df.groupby('CustomerID').agg({'Quantity': 'sum', 'UnitPrice': 'sum'})\ncustomer_purchases['TotalSpent'] = df.groupby('CustomerID').apply(lambda x: (x['Quantity'] * x['UnitPrice']).sum())\n\n# List the top 10 customers based on total quantity purchased\ntop_customers_quantity = customer_purchases.sort_values('Quantity', ascending=False).head(10)\n\n# List the top 10 customers based on total amount spent\ntop_customers_spent = customer_purchases.sort_values('TotalSpent', ascending=False).head(10)\n\ntop_customers_quantity, top_customers_spent",
      "outputs": []
    }
  ]
}